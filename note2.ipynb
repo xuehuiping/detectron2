{
 "cells": [
  {
   "cell_type": "code",
   "execution_count": 1,
   "metadata": {},
   "outputs": [
    {
     "name": "stdout",
     "output_type": "stream",
     "text": [
      "haomeiya008\r\n"
     ]
    }
   ],
   "source": [
    "!cat /etc/hostname"
   ]
  },
  {
   "cell_type": "code",
   "execution_count": 5,
   "metadata": {},
   "outputs": [
    {
     "name": "stdout",
     "output_type": "stream",
     "text": [
      "/home/xuehp/anaconda3/envs/detectron2/bin/python\r\n"
     ]
    }
   ],
   "source": [
    "!which python"
   ]
  },
  {
   "cell_type": "code",
   "execution_count": 7,
   "metadata": {},
   "outputs": [
    {
     "name": "stdout",
     "output_type": "stream",
     "text": [
      "Python 3.7.9\r\n"
     ]
    }
   ],
   "source": [
    "!python --version"
   ]
  },
  {
   "cell_type": "code",
   "execution_count": 4,
   "metadata": {},
   "outputs": [
    {
     "name": "stdout",
     "output_type": "stream",
     "text": [
      "Package                Version             Location\r\n",
      "---------------------- ------------------- --------------------------\r\n",
      "absl-py                0.11.0\r\n",
      "async-generator        1.10\r\n",
      "attrs                  20.3.0\r\n",
      "bleach                 3.2.1\r\n",
      "cachetools             4.1.1\r\n",
      "certifi                2020.12.5\r\n",
      "chardet                3.0.4\r\n",
      "cloudpickle            1.6.0\r\n",
      "cycler                 0.10.0\r\n",
      "Cython                 0.29.21\r\n",
      "dataclasses            0.6\r\n",
      "decorator              4.4.2\r\n",
      "defusedxml             0.6.0\r\n",
      "detectron2             0.3                 /home/xuehp/git/detectron2\r\n",
      "entrypoints            0.3\r\n",
      "future                 0.18.2\r\n",
      "fvcore                 0.1.2.post20201204\r\n",
      "google-auth            1.4.0\r\n",
      "google-auth-oauthlib   0.4.2\r\n",
      "google-colab           1.0.0\r\n",
      "grpcio                 1.34.0\r\n",
      "idna                   2.8\r\n",
      "importlib-metadata     3.1.1\r\n",
      "ipykernel              4.6.1\r\n",
      "ipython                5.5.0\r\n",
      "ipython-genutils       0.2.0\r\n",
      "Jinja2                 2.11.2\r\n",
      "jsonschema             3.2.0\r\n",
      "jupyter-client         6.1.7\r\n",
      "jupyter-core           4.7.0\r\n",
      "jupyterlab-pygments    0.1.2\r\n",
      "kiwisolver             1.3.1\r\n",
      "Markdown               3.3.3\r\n",
      "MarkupSafe             1.1.1\r\n",
      "matplotlib             3.3.3\r\n",
      "mistune                0.8.4\r\n",
      "nbclient               0.5.1\r\n",
      "nbconvert              6.0.7\r\n",
      "nbformat               5.0.8\r\n",
      "nest-asyncio           1.4.3\r\n",
      "notebook               5.2.2\r\n",
      "numpy                  1.19.4\r\n",
      "oauthlib               3.1.0\r\n",
      "opencv-python          4.4.0.46\r\n",
      "packaging              20.7\r\n",
      "pandas                 0.24.2\r\n",
      "pandocfilters          1.4.3\r\n",
      "pexpect                4.8.0\r\n",
      "pickleshare            0.7.5\r\n",
      "Pillow                 8.0.1\r\n",
      "pip                    20.3.1\r\n",
      "portalocker            2.0.0\r\n",
      "portpicker             1.2.0\r\n",
      "prompt-toolkit         1.0.18\r\n",
      "protobuf               3.14.0\r\n",
      "ptyprocess             0.6.0\r\n",
      "pyasn1                 0.4.8\r\n",
      "pyasn1-modules         0.2.8\r\n",
      "pycocotools            2.0.2\r\n",
      "pydot                  1.4.1\r\n",
      "Pygments               2.7.3\r\n",
      "pyparsing              2.4.7\r\n",
      "pyrsistent             0.17.3\r\n",
      "python-dateutil        2.8.1\r\n",
      "pytz                   2020.4\r\n",
      "PyYAML                 5.1\r\n",
      "pyzmq                  17.0.0\r\n",
      "requests               2.21.0\r\n",
      "requests-oauthlib      1.3.0\r\n",
      "rsa                    4.6\r\n",
      "setuptools             51.0.0.post20201207\r\n",
      "simplegeneric          0.8.1\r\n",
      "six                    1.12.0\r\n",
      "tabulate               0.8.7\r\n",
      "tensorboard            2.0.0\r\n",
      "tensorboard-plugin-wit 1.7.0\r\n",
      "termcolor              1.1.0\r\n",
      "terminado              0.9.1\r\n",
      "testpath               0.4.4\r\n",
      "torch                  1.7.0\r\n",
      "torchvision            0.8.1\r\n",
      "tornado                4.5.3\r\n",
      "tqdm                   4.54.1\r\n",
      "traitlets              5.0.5\r\n",
      "typing-extensions      3.7.4.3\r\n",
      "urllib3                1.24.3\r\n",
      "wcwidth                0.2.5\r\n",
      "webencodings           0.5.1\r\n",
      "Werkzeug               1.0.1\r\n",
      "wheel                  0.36.1\r\n",
      "yacs                   0.1.8\r\n",
      "youtube-dl             2020.12.9\r\n",
      "zipp                   3.4.0\r\n"
     ]
    }
   ],
   "source": [
    "!pip list"
   ]
  }
 ],
 "metadata": {
  "kernelspec": {
   "display_name": "Python 3",
   "language": "python",
   "name": "python3"
  },
  "language_info": {
   "codemirror_mode": {
    "name": "ipython",
    "version": 3
   },
   "file_extension": ".py",
   "mimetype": "text/x-python",
   "name": "python",
   "nbconvert_exporter": "python",
   "pygments_lexer": "ipython3",
   "version": "3.7.9"
  }
 },
 "nbformat": 4,
 "nbformat_minor": 2
}
